{
 "cells": [
  {
   "cell_type": "markdown",
   "metadata": {},
   "source": [
    "# Building the Network"
   ]
  },
  {
   "cell_type": "markdown",
   "metadata": {},
   "source": [
    "Here I'm going to use the list of interactions built as shown in the first notebook to build a full graph of the network and take some basic centrality measures. I'll then make a smaller graph, repeat the measures and export a graphml file that can be used in Gephi.  \n",
    "First I import the nessecary libraries and some functions I wrote."
   ]
  },
  {
   "cell_type": "code",
   "execution_count": 1,
   "metadata": {
    "collapsed": false
   },
   "outputs": [
    {
     "name": "stdout",
     "output_type": "stream",
     "text": [
      "Populating the interactive namespace from numpy and matplotlib\n"
     ]
    }
   ],
   "source": [
    "import pandas as pd\n",
    "import networkx as nx\n",
    "import matplotlib.pyplot as plt\n",
    "\n",
    "%pylab inline"
   ]
  },
  {
   "cell_type": "markdown",
   "metadata": {},
   "source": [
    "The below functions do the following:  \n",
    "* __build_dataFrame__: Takes a pandas dataframe and filters it on date. Isn't used much at the moment but can be expanded later to filter on location.  \n",
    "* __get_graph_stats__: Takes a graph and returns a dataframe with a number of different centrality measures calculated.  \n",
    "* __build_graph__: Takes a dataframe and builds a graph from it. Adds nodes and edges to the graph if they are not present. If an edge is already present it increases its weight by 1.  \n",
    "* __filter_built_graph__: Takes a graph and a weight and returns a smaller graph where all edges smaller than the weight have been removed.  \n",
    "* __rebuild_dataFrame_from_stats__: I didn't use this one much. It takes a dataframe returned from the get_graph_stats function above, a column name and a value. It returns a dataframe containing nodes who have a value for that column greater than the value given to the function. The default is to return all nodes with an Eigenvector value above 0.01.    "
   ]
  },
  {
   "cell_type": "code",
   "execution_count": 2,
   "metadata": {
    "collapsed": true
   },
   "outputs": [],
   "source": [
    "# Take in parameters from user (date range), return dataframe\n",
    "def build_dataFrame(df, startDate = '1915-05-31', endDate = '1916-04-19'):\n",
    "    out_df = df[(df['Date'] >= startDate) & (df['Date'] <= endDate)]\n",
    "    out_df = out_df.drop('Date', 1).reset_index(drop = True)\n",
    "    return out_df \n",
    "\n",
    "# Return stats of graph (degree, centrality etc)\n",
    "def get_graph_stats(graph, by_col = ''):   \n",
    "    degree = pd.DataFrame.from_dict(graph.degree(graph), orient = 'index').reset_index()\n",
    "    degree.rename(columns={'index': 'Name', 0: 'Degree'}, inplace=True)\n",
    "    \n",
    "    degree_cent = pd.DataFrame.from_dict(nx.degree_centrality(graph), orient = 'index').reset_index()\n",
    "    degree_cent.rename(columns={'index': 'Name', 0: 'Deg Cent'}, inplace=True)\n",
    "    \n",
    "    stats_df = pd.merge(degree, degree_cent, on = ['Name', 'Name'])\n",
    "    \n",
    "    close_cent = pd.DataFrame.from_dict(nx.closeness_centrality(graph), orient = 'index').reset_index()\n",
    "    close_cent.rename(columns={'index': 'Name', 0: 'Close Cent'}, inplace=True)\n",
    "    \n",
    "    stats_df = pd.merge(stats_df, close_cent, on = ['Name', 'Name'])\n",
    "    \n",
    "    betw_cent = pd.DataFrame.from_dict(nx.betweenness_centrality(graph), orient = 'index').reset_index()\n",
    "    betw_cent.rename(columns={'index': 'Name', 0: 'Betw Cent'}, inplace=True)\n",
    "    \n",
    "    stats_df = pd.merge(stats_df, betw_cent, on = ['Name', 'Name'])\n",
    "    \n",
    "    eigenvector = pd.DataFrame.from_dict(nx.eigenvector_centrality(graph), orient = 'index').reset_index()\n",
    "    eigenvector.rename(columns={'index': 'Name', 0: 'Eigenvector'}, inplace=True)\n",
    "    \n",
    "    stats_df = pd.merge(stats_df, eigenvector, on = ['Name', 'Name'])\n",
    "    \n",
    "    pagerank = pd.DataFrame.from_dict(nx.pagerank(graph), orient = 'index').reset_index()\n",
    "    pagerank.rename(columns={'index': 'Name', 0: 'PageRank'}, inplace=True)\n",
    "    \n",
    "    stats_df = pd.merge(stats_df, pagerank, on = ['Name', 'Name'])\n",
    "    \n",
    "    if by_col != '':\n",
    "        stats_df = stats_df.sort_values(by = by_col, ascending = False).reset_index(drop = True)\n",
    "    \n",
    "    return stats_df\n",
    "\n",
    "# build the graph that will be used for\n",
    "def build_graph(df):\n",
    "    G = nx.Graph()\n",
    "\n",
    "    for i in range(0, len(df)):\n",
    "        if not G.has_node(df.iloc[i, 0]):\n",
    "            G.add_node(df.iloc[i, 0])\n",
    "        if not G.has_node(df.iloc[i, 1]):\n",
    "            G.add_node(df.iloc[i, 1])\n",
    "\n",
    "        if not G.has_edge(df.iloc[i, 0], df.iloc[i, 1]):\n",
    "            G.add_edge(df.iloc[i, 0], df.iloc[i, 1])\n",
    "            G[df.iloc[i, 0]][df.iloc[i, 1]]['weight'] = 1\n",
    "        else:\n",
    "            G[df.iloc[i, 0]][df.iloc[i, 1]]['weight'] += 1\n",
    "    \n",
    "    return G\n",
    "\n",
    "#Filter a previous built graph, remove edges below a certain weight (returns a new graph)\n",
    "def filter_built_graph(graph, weight):\n",
    "    out_graph = nx.Graph()\n",
    "    for source, target, data in graph.edges(data = True):\n",
    "        if data['weight'] >= weight:\n",
    "            out_graph.add_edge(source, target, data)\n",
    "    \n",
    "    return out_graph    \n",
    "\n",
    "# After building graph rebuild dataFrame using PageRank, closeness etc\n",
    "def rebuild_dataFrame_from_stats(stats_in, df_in, by_column = 'Eigenvector', value = 0.01):\n",
    "    stats_in = stats_in[stats_in[by_column] >= value].sort_values(by = by_column, ascending = False)\n",
    "    \n",
    "    names = list(stats_in['Name'])\n",
    "    \n",
    "    df_out = df_in[(df_in['Source'].isin(names)) & (df_in['Target'].isin(names))]\n",
    "    \n",
    "    return df_out.reset_index(drop = True)"
   ]
  },
  {
   "cell_type": "code",
   "execution_count": 3,
   "metadata": {
    "collapsed": true
   },
   "outputs": [],
   "source": [
    "# encoding='cp1252' is used to read in names that contain a fada, like Seán.\n",
    "ex_df = pd.read_csv('../1916_edge_list.csv', encoding='cp1252')\n",
    "ex_df.columns = ['Date', 'Source', 'Target']\n",
    "ex_df['Date'] = pd.to_datetime(ex_df['Date'], dayfirst = True, format = '%d %B %Y')"
   ]
  },
  {
   "cell_type": "code",
   "execution_count": 4,
   "metadata": {
    "collapsed": false
   },
   "outputs": [
    {
     "data": {
      "text/html": [
       "<div>\n",
       "<table border=\"1\" class=\"dataframe\">\n",
       "  <thead>\n",
       "    <tr style=\"text-align: right;\">\n",
       "      <th></th>\n",
       "      <th>Date</th>\n",
       "      <th>Source</th>\n",
       "      <th>Target</th>\n",
       "    </tr>\n",
       "  </thead>\n",
       "  <tbody>\n",
       "    <tr>\n",
       "      <th>0</th>\n",
       "      <td>1915-05-31</td>\n",
       "      <td>Eoin MacNeill</td>\n",
       "      <td>Tom Clarke</td>\n",
       "    </tr>\n",
       "    <tr>\n",
       "      <th>1</th>\n",
       "      <td>1915-05-31</td>\n",
       "      <td>Thomas Byrne</td>\n",
       "      <td>Tom Clarke</td>\n",
       "    </tr>\n",
       "    <tr>\n",
       "      <th>2</th>\n",
       "      <td>1915-05-31</td>\n",
       "      <td>Frank Fahy</td>\n",
       "      <td>Tom Clarke</td>\n",
       "    </tr>\n",
       "    <tr>\n",
       "      <th>3</th>\n",
       "      <td>1915-05-31</td>\n",
       "      <td>George Irvine</td>\n",
       "      <td>Tom Clarke</td>\n",
       "    </tr>\n",
       "    <tr>\n",
       "      <th>4</th>\n",
       "      <td>1915-05-31</td>\n",
       "      <td>Seán T. O'Kelly</td>\n",
       "      <td>Tom Clarke</td>\n",
       "    </tr>\n",
       "  </tbody>\n",
       "</table>\n",
       "</div>"
      ],
      "text/plain": [
       "        Date           Source      Target\n",
       "0 1915-05-31    Eoin MacNeill  Tom Clarke\n",
       "1 1915-05-31     Thomas Byrne  Tom Clarke\n",
       "2 1915-05-31       Frank Fahy  Tom Clarke\n",
       "3 1915-05-31    George Irvine  Tom Clarke\n",
       "4 1915-05-31  Seán T. O'Kelly  Tom Clarke"
      ]
     },
     "execution_count": 4,
     "metadata": {},
     "output_type": "execute_result"
    }
   ],
   "source": [
    "ex_df.head()"
   ]
  },
  {
   "cell_type": "markdown",
   "metadata": {},
   "source": [
    "# Full Network"
   ]
  },
  {
   "cell_type": "markdown",
   "metadata": {},
   "source": [
    "Using the functions I wrote above I can now build a graph of the full network. This graph will have 233 nodes and 3995 edges and it will take a while for the stats to return as some, like Eigenvector and Betweenness, are run on the whole network multiple times. "
   ]
  },
  {
   "cell_type": "code",
   "execution_count": 6,
   "metadata": {
    "collapsed": false
   },
   "outputs": [
    {
     "data": {
      "image/png": "[encoded data removed]",
      "text/plain": [
       "<matplotlib.figure.Figure at 0xc35bb00>"
      ]
     },
     "metadata": {},
     "output_type": "display_data"
    }
   ],
   "source": [
    "# Build dataframe to be used by applying date filters\n",
    "full_df = build_dataFrame(ex_df)\n",
    "\n",
    "# convert dataframe to graph\n",
    "ex_graph_full = build_graph(full_df)\n",
    "\n",
    "# get stats from graph\n",
    "stats = get_graph_stats(ex_graph_full)\n",
    "\n",
    "#draw graph\n",
    "nx.draw(ex_graph_full)\n",
    "\n",
    "#savefig(\"graphImages/1916-full-graph.png\")\n",
    "\n",
    "#nx.write_graphml(ex_graph_full, '1916-full-graph.graphml')"
   ]
  },
  {
   "cell_type": "markdown",
   "metadata": {},
   "source": [
    "The full graph can be described as a \"Hairball Graph\". It's difficult to pickout any pattern because there are so many weak ties between people that everyone clumps together. Even in Gephi there are so many links that at this level there is little structure.  \n",
    "The handle coming out of the graph to the right is a number of women who speak at suffragette meetings and the cluster in the bottom left is a meeting of the Ancient Order of Hibernians. Instead of going down through all the centrality measures for this graph I will print off the head of the stats dataframe ordered by PageRank."
   ]
  },
  {
   "cell_type": "code",
   "execution_count": 7,
   "metadata": {
    "collapsed": false
   },
   "outputs": [
    {
     "data": {
      "text/html": [
       "<div>\n",
       "<table border=\"1\" class=\"dataframe\">\n",
       "  <thead>\n",
       "    <tr style=\"text-align: right;\">\n",
       "      <th></th>\n",
       "      <th>Name</th>\n",
       "      <th>Degree</th>\n",
       "      <th>Deg Cent</th>\n",
       "      <th>Close Cent</th>\n",
       "      <th>Betw Cent</th>\n",
       "      <th>Eigenvector</th>\n",
       "      <th>PageRank</th>\n",
       "    </tr>\n",
       "  </thead>\n",
       "  <tbody>\n",
       "    <tr>\n",
       "      <th>194</th>\n",
       "      <td>Tom Clarke</td>\n",
       "      <td>130</td>\n",
       "      <td>0.560345</td>\n",
       "      <td>0.657110</td>\n",
       "      <td>0.105605</td>\n",
       "      <td>0.317174</td>\n",
       "      <td>0.051385</td>\n",
       "    </tr>\n",
       "    <tr>\n",
       "      <th>3</th>\n",
       "      <td>The O'Rahilly</td>\n",
       "      <td>125</td>\n",
       "      <td>0.538793</td>\n",
       "      <td>0.653345</td>\n",
       "      <td>0.031094</td>\n",
       "      <td>0.292104</td>\n",
       "      <td>0.029435</td>\n",
       "    </tr>\n",
       "    <tr>\n",
       "      <th>74</th>\n",
       "      <td>Bulmer Hobson</td>\n",
       "      <td>121</td>\n",
       "      <td>0.521552</td>\n",
       "      <td>0.653345</td>\n",
       "      <td>0.034218</td>\n",
       "      <td>0.276175</td>\n",
       "      <td>0.026817</td>\n",
       "    </tr>\n",
       "    <tr>\n",
       "      <th>148</th>\n",
       "      <td>Michael O'Hanrahan</td>\n",
       "      <td>104</td>\n",
       "      <td>0.448276</td>\n",
       "      <td>0.621300</td>\n",
       "      <td>0.025235</td>\n",
       "      <td>0.256247</td>\n",
       "      <td>0.024084</td>\n",
       "    </tr>\n",
       "    <tr>\n",
       "      <th>188</th>\n",
       "      <td>Seán MacDiarmada</td>\n",
       "      <td>114</td>\n",
       "      <td>0.491379</td>\n",
       "      <td>0.636920</td>\n",
       "      <td>0.025458</td>\n",
       "      <td>0.221117</td>\n",
       "      <td>0.023021</td>\n",
       "    </tr>\n",
       "    <tr>\n",
       "      <th>27</th>\n",
       "      <td>Thomas MacDonagh</td>\n",
       "      <td>117</td>\n",
       "      <td>0.504310</td>\n",
       "      <td>0.636920</td>\n",
       "      <td>0.024133</td>\n",
       "      <td>0.225071</td>\n",
       "      <td>0.022652</td>\n",
       "    </tr>\n",
       "    <tr>\n",
       "      <th>36</th>\n",
       "      <td>Herbert Mellows</td>\n",
       "      <td>97</td>\n",
       "      <td>0.418103</td>\n",
       "      <td>0.604820</td>\n",
       "      <td>0.021001</td>\n",
       "      <td>0.246146</td>\n",
       "      <td>0.021695</td>\n",
       "    </tr>\n",
       "    <tr>\n",
       "      <th>217</th>\n",
       "      <td>Éamonn Ceannt</td>\n",
       "      <td>119</td>\n",
       "      <td>0.512931</td>\n",
       "      <td>0.651478</td>\n",
       "      <td>0.034505</td>\n",
       "      <td>0.184655</td>\n",
       "      <td>0.020769</td>\n",
       "    </tr>\n",
       "    <tr>\n",
       "      <th>51</th>\n",
       "      <td>Piaras Béaslaí</td>\n",
       "      <td>125</td>\n",
       "      <td>0.538793</td>\n",
       "      <td>0.655222</td>\n",
       "      <td>0.037174</td>\n",
       "      <td>0.161031</td>\n",
       "      <td>0.018777</td>\n",
       "    </tr>\n",
       "    <tr>\n",
       "      <th>64</th>\n",
       "      <td>Seán T. O'Kelly</td>\n",
       "      <td>127</td>\n",
       "      <td>0.547414</td>\n",
       "      <td>0.660920</td>\n",
       "      <td>0.034973</td>\n",
       "      <td>0.145478</td>\n",
       "      <td>0.018662</td>\n",
       "    </tr>\n",
       "    <tr>\n",
       "      <th>164</th>\n",
       "      <td>Joseph McGuinness</td>\n",
       "      <td>112</td>\n",
       "      <td>0.482759</td>\n",
       "      <td>0.633381</td>\n",
       "      <td>0.022014</td>\n",
       "      <td>0.155937</td>\n",
       "      <td>0.018521</td>\n",
       "    </tr>\n",
       "    <tr>\n",
       "      <th>19</th>\n",
       "      <td>J. O'Connor</td>\n",
       "      <td>102</td>\n",
       "      <td>0.439655</td>\n",
       "      <td>0.596904</td>\n",
       "      <td>0.011359</td>\n",
       "      <td>0.180703</td>\n",
       "      <td>0.017838</td>\n",
       "    </tr>\n",
       "    <tr>\n",
       "      <th>56</th>\n",
       "      <td>John Fitzgibbon</td>\n",
       "      <td>98</td>\n",
       "      <td>0.422414</td>\n",
       "      <td>0.608046</td>\n",
       "      <td>0.021074</td>\n",
       "      <td>0.172146</td>\n",
       "      <td>0.017636</td>\n",
       "    </tr>\n",
       "    <tr>\n",
       "      <th>215</th>\n",
       "      <td>Con Colbert</td>\n",
       "      <td>87</td>\n",
       "      <td>0.375000</td>\n",
       "      <td>0.583164</td>\n",
       "      <td>0.013976</td>\n",
       "      <td>0.171710</td>\n",
       "      <td>0.016410</td>\n",
       "    </tr>\n",
       "    <tr>\n",
       "      <th>8</th>\n",
       "      <td>Edward Daly</td>\n",
       "      <td>107</td>\n",
       "      <td>0.461207</td>\n",
       "      <td>0.609672</td>\n",
       "      <td>0.017306</td>\n",
       "      <td>0.136322</td>\n",
       "      <td>0.016026</td>\n",
       "    </tr>\n",
       "  </tbody>\n",
       "</table>\n",
       "</div>"
      ],
      "text/plain": [
       "                   Name  Degree  Deg Cent  Close Cent  Betw Cent  Eigenvector  \\\n",
       "194          Tom Clarke     130  0.560345    0.657110   0.105605     0.317174   \n",
       "3         The O'Rahilly     125  0.538793    0.653345   0.031094     0.292104   \n",
       "74        Bulmer Hobson     121  0.521552    0.653345   0.034218     0.276175   \n",
       "148  Michael O'Hanrahan     104  0.448276    0.621300   0.025235     0.256247   \n",
       "188    Seán MacDiarmada     114  0.491379    0.636920   0.025458     0.221117   \n",
       "27     Thomas MacDonagh     117  0.504310    0.636920   0.024133     0.225071   \n",
       "36      Herbert Mellows      97  0.418103    0.604820   0.021001     0.246146   \n",
       "217       Éamonn Ceannt     119  0.512931    0.651478   0.034505     0.184655   \n",
       "51       Piaras Béaslaí     125  0.538793    0.655222   0.037174     0.161031   \n",
       "64      Seán T. O'Kelly     127  0.547414    0.660920   0.034973     0.145478   \n",
       "164   Joseph McGuinness     112  0.482759    0.633381   0.022014     0.155937   \n",
       "19          J. O'Connor     102  0.439655    0.596904   0.011359     0.180703   \n",
       "56      John Fitzgibbon      98  0.422414    0.608046   0.021074     0.172146   \n",
       "215         Con Colbert      87  0.375000    0.583164   0.013976     0.171710   \n",
       "8           Edward Daly     107  0.461207    0.609672   0.017306     0.136322   \n",
       "\n",
       "     PageRank  \n",
       "194  0.051385  \n",
       "3    0.029435  \n",
       "74   0.026817  \n",
       "148  0.024084  \n",
       "188  0.023021  \n",
       "27   0.022652  \n",
       "36   0.021695  \n",
       "217  0.020769  \n",
       "51   0.018777  \n",
       "64   0.018662  \n",
       "164  0.018521  \n",
       "19   0.017838  \n",
       "56   0.017636  \n",
       "215  0.016410  \n",
       "8    0.016026  "
      ]
     },
     "execution_count": 7,
     "metadata": {},
     "output_type": "execute_result"
    }
   ],
   "source": [
    "stats.sort_values(by='PageRank', ascending = False).head(15)"
   ]
  },
  {
   "cell_type": "markdown",
   "metadata": {},
   "source": [
    "Tom Clarke is the most popular node in the graph and also has a high Eigenvector centrality. A number of nodes have Degree centralities placing them in contact with over 50% of the network but most of these are very weak ties. It is interesting to see that Clarke has a low Betweenness score; while he is an important node he doesn't appear on many of the shortest paths."
   ]
  },
  {
   "cell_type": "markdown",
   "metadata": {},
   "source": [
    "# Edge Weight Over 25"
   ]
  },
  {
   "cell_type": "markdown",
   "metadata": {},
   "source": [
    "The majority of the edges in the network have a weight of 1, meaning the nodes they connect were only seen together once. I'm going to filter out all edges that have a weight less than 25 and rebuild the network."
   ]
  },
  {
   "cell_type": "code",
   "execution_count": 8,
   "metadata": {
    "collapsed": false
   },
   "outputs": [
    {
     "data": {
      "image/png": "[encoded data removed]",
      "text/plain": [
       "<matplotlib.figure.Figure at 0xb453278>"
      ]
     },
     "metadata": {},
     "output_type": "display_data"
    }
   ],
   "source": [
    "# filter the full graph, include only edges greather than or equal to 25\n",
    "ex_graph_25 = filter_built_graph(ex_graph_full, 25)\n",
    "\n",
    "stats_25 = get_graph_stats(ex_graph_25)\n",
    "\n",
    "nx.draw(ex_graph_25)"
   ]
  },
  {
   "cell_type": "code",
   "execution_count": 9,
   "metadata": {
    "collapsed": false
   },
   "outputs": [
    {
     "name": "stdout",
     "output_type": "stream",
     "text": [
      "35\n",
      "67\n"
     ]
    }
   ],
   "source": [
    "print(len(ex_graph_25.nodes()))\n",
    "print(len(ex_graph_25.edges()))"
   ]
  },
  {
   "cell_type": "markdown",
   "metadata": {},
   "source": [
    "There is now a much smaller graph containing 35 nodes and 67 edges connecting them. At the top is a star cluster surrounding Tom Clarke. At the bottom is a more heavily linked cluster including members of the Irish Volunteers. The node in the centre with four edges coming off of it into the Irish Volunteers cluster is Seán MacDiarmada. Removing this node would split the graph in two."
   ]
  },
  {
   "cell_type": "markdown",
   "metadata": {},
   "source": [
    "## Cliques"
   ]
  },
  {
   "cell_type": "markdown",
   "metadata": {},
   "source": [
    "A clique is a subgraph where all the nodes present are connected to each other. Extending the subgraph by one node and not connecting it to all the others means that is it no longer a clique. We can find the cliques in the graph above, filtering out all that contain only two nodes. Names with a fada over one of the letters don't render correctly below."
   ]
  },
  {
   "cell_type": "code",
   "execution_count": 10,
   "metadata": {
    "collapsed": false
   },
   "outputs": [
    {
     "name": "stdout",
     "output_type": "stream",
     "text": [
      "[u'Patrick Ryan', u'Herbert Mellows', u\"The O'Rahilly\", u'Bulmer Hobson']\n",
      "[u'Herbert Mellows', u\"Michael O'Hanrahan\", u\"The O'Rahilly\", u'Bulmer Hobson', u'Thomas MacDonagh', u\"J.J. O'Connell\"]\n",
      "[u'Herbert Mellows', u\"Michael O'Hanrahan\", u\"The O'Rahilly\", u'Bulmer Hobson', u\"Eimar O'Duffy\"]\n",
      "[u'\\xc9amon De Valera', u'Thomas MacDonagh', u\"The O'Rahilly\", u\"Michael O'Hanrahan\"]\n",
      "[u\"Michael O'Hanrahan\", u\"The O'Rahilly\", u'\\xc9amonn Ceannt', u'Thomas MacDonagh', u'John Fitzgibbon']\n",
      "[u\"Michael O'Hanrahan\", u\"The O'Rahilly\", u'John Fitzgibbon', u'Bulmer Hobson', u'Thomas MacDonagh']\n",
      "[u'P.H. Pearse', u'Thomas MacDonagh', u'\\xc9amonn Ceannt', u\"The O'Rahilly\"]\n",
      "[u\"The O'Rahilly\", u\"J. O'Connor\", u'Bulmer Hobson', u'Thomas MacDonagh', u'John Fitzgibbon']\n",
      "[u\"The O'Rahilly\", u\"J. O'Connor\", u'Bulmer Hobson', u'Se\\xe1n MacDiarmada']\n",
      "[u\"The O'Rahilly\", u'Se\\xe1n MacDiarmada', u'\\xc9amonn Ceannt']\n",
      "[u'Tom Clarke', u'Se\\xe1n MacDiarmada', u'Se\\xe1n McGarry']\n",
      "[u'Tom Clarke', u\"William O'Leary Curtis\", u'Arthur Griffith']\n"
     ]
    }
   ],
   "source": [
    "for clique in nx.find_cliques(ex_graph_25):\n",
    "    if len(clique) > 2:\n",
    "        print(clique)"
   ]
  },
  {
   "cell_type": "markdown",
   "metadata": {},
   "source": [
    "Tom Clarke appears in only two cliques while The O'Rahilly appears in all the others, many of them with Bulmer Hobson. Lets see how the stats have changed on this smaller network."
   ]
  },
  {
   "cell_type": "code",
   "execution_count": 11,
   "metadata": {
    "collapsed": false
   },
   "outputs": [
    {
     "data": {
      "text/html": [
       "<div>\n",
       "<table border=\"1\" class=\"dataframe\">\n",
       "  <thead>\n",
       "    <tr style=\"text-align: right;\">\n",
       "      <th></th>\n",
       "      <th>Name</th>\n",
       "      <th>Degree</th>\n",
       "      <th>Deg Cent</th>\n",
       "      <th>Close Cent</th>\n",
       "      <th>Betw Cent</th>\n",
       "      <th>Eigenvector</th>\n",
       "      <th>PageRank</th>\n",
       "    </tr>\n",
       "  </thead>\n",
       "  <tbody>\n",
       "    <tr>\n",
       "      <th>14</th>\n",
       "      <td>Tom Clarke</td>\n",
       "      <td>19</td>\n",
       "      <td>0.558824</td>\n",
       "      <td>0.566667</td>\n",
       "      <td>0.755793</td>\n",
       "      <td>0.116530</td>\n",
       "      <td>0.234392</td>\n",
       "    </tr>\n",
       "    <tr>\n",
       "      <th>3</th>\n",
       "      <td>The O'Rahilly</td>\n",
       "      <td>15</td>\n",
       "      <td>0.441176</td>\n",
       "      <td>0.485714</td>\n",
       "      <td>0.299822</td>\n",
       "      <td>0.454276</td>\n",
       "      <td>0.081192</td>\n",
       "    </tr>\n",
       "    <tr>\n",
       "      <th>24</th>\n",
       "      <td>Bulmer Hobson</td>\n",
       "      <td>10</td>\n",
       "      <td>0.294118</td>\n",
       "      <td>0.453333</td>\n",
       "      <td>0.110071</td>\n",
       "      <td>0.430476</td>\n",
       "      <td>0.057982</td>\n",
       "    </tr>\n",
       "    <tr>\n",
       "      <th>23</th>\n",
       "      <td>Michael O'Hanrahan</td>\n",
       "      <td>9</td>\n",
       "      <td>0.264706</td>\n",
       "      <td>0.357895</td>\n",
       "      <td>0.008675</td>\n",
       "      <td>0.381324</td>\n",
       "      <td>0.048461</td>\n",
       "    </tr>\n",
       "    <tr>\n",
       "      <th>25</th>\n",
       "      <td>Thomas MacDonagh</td>\n",
       "      <td>10</td>\n",
       "      <td>0.294118</td>\n",
       "      <td>0.361702</td>\n",
       "      <td>0.014023</td>\n",
       "      <td>0.292554</td>\n",
       "      <td>0.044139</td>\n",
       "    </tr>\n",
       "    <tr>\n",
       "      <th>20</th>\n",
       "      <td>Herbert Mellows</td>\n",
       "      <td>7</td>\n",
       "      <td>0.205882</td>\n",
       "      <td>0.350515</td>\n",
       "      <td>0.003268</td>\n",
       "      <td>0.376071</td>\n",
       "      <td>0.043452</td>\n",
       "    </tr>\n",
       "    <tr>\n",
       "      <th>12</th>\n",
       "      <td>Seán MacDiarmada</td>\n",
       "      <td>6</td>\n",
       "      <td>0.176471</td>\n",
       "      <td>0.548387</td>\n",
       "      <td>0.508824</td>\n",
       "      <td>0.140997</td>\n",
       "      <td>0.035348</td>\n",
       "    </tr>\n",
       "    <tr>\n",
       "      <th>26</th>\n",
       "      <td>William O'Leary Curtis</td>\n",
       "      <td>2</td>\n",
       "      <td>0.058824</td>\n",
       "      <td>0.369565</td>\n",
       "      <td>0.000000</td>\n",
       "      <td>0.042349</td>\n",
       "      <td>0.031863</td>\n",
       "    </tr>\n",
       "    <tr>\n",
       "      <th>28</th>\n",
       "      <td>Éamonn Ceannt</td>\n",
       "      <td>6</td>\n",
       "      <td>0.176471</td>\n",
       "      <td>0.430380</td>\n",
       "      <td>0.048723</td>\n",
       "      <td>0.148471</td>\n",
       "      <td>0.025289</td>\n",
       "    </tr>\n",
       "    <tr>\n",
       "      <th>4</th>\n",
       "      <td>John Fitzgibbon</td>\n",
       "      <td>6</td>\n",
       "      <td>0.176471</td>\n",
       "      <td>0.346939</td>\n",
       "      <td>0.001248</td>\n",
       "      <td>0.178787</td>\n",
       "      <td>0.024604</td>\n",
       "    </tr>\n",
       "    <tr>\n",
       "      <th>13</th>\n",
       "      <td>Thomas Byrne</td>\n",
       "      <td>1</td>\n",
       "      <td>0.029412</td>\n",
       "      <td>0.365591</td>\n",
       "      <td>0.000000</td>\n",
       "      <td>0.040417</td>\n",
       "      <td>0.024077</td>\n",
       "    </tr>\n",
       "    <tr>\n",
       "      <th>18</th>\n",
       "      <td>J.J. O'Connell</td>\n",
       "      <td>5</td>\n",
       "      <td>0.147059</td>\n",
       "      <td>0.343434</td>\n",
       "      <td>0.000000</td>\n",
       "      <td>0.215254</td>\n",
       "      <td>0.023157</td>\n",
       "    </tr>\n",
       "    <tr>\n",
       "      <th>9</th>\n",
       "      <td>Seán McGarry</td>\n",
       "      <td>2</td>\n",
       "      <td>0.058824</td>\n",
       "      <td>0.441558</td>\n",
       "      <td>0.000000</td>\n",
       "      <td>0.042196</td>\n",
       "      <td>0.022768</td>\n",
       "    </tr>\n",
       "    <tr>\n",
       "      <th>16</th>\n",
       "      <td>J. O'Connor</td>\n",
       "      <td>5</td>\n",
       "      <td>0.147059</td>\n",
       "      <td>0.425000</td>\n",
       "      <td>0.017825</td>\n",
       "      <td>0.145656</td>\n",
       "      <td>0.022182</td>\n",
       "    </tr>\n",
       "    <tr>\n",
       "      <th>6</th>\n",
       "      <td>Eimar O'Duffy</td>\n",
       "      <td>4</td>\n",
       "      <td>0.117647</td>\n",
       "      <td>0.340000</td>\n",
       "      <td>0.000000</td>\n",
       "      <td>0.186207</td>\n",
       "      <td>0.019667</td>\n",
       "    </tr>\n",
       "  </tbody>\n",
       "</table>\n",
       "</div>"
      ],
      "text/plain": [
       "                      Name  Degree  Deg Cent  Close Cent  Betw Cent  \\\n",
       "14              Tom Clarke      19  0.558824    0.566667   0.755793   \n",
       "3            The O'Rahilly      15  0.441176    0.485714   0.299822   \n",
       "24           Bulmer Hobson      10  0.294118    0.453333   0.110071   \n",
       "23      Michael O'Hanrahan       9  0.264706    0.357895   0.008675   \n",
       "25        Thomas MacDonagh      10  0.294118    0.361702   0.014023   \n",
       "20         Herbert Mellows       7  0.205882    0.350515   0.003268   \n",
       "12        Seán MacDiarmada       6  0.176471    0.548387   0.508824   \n",
       "26  William O'Leary Curtis       2  0.058824    0.369565   0.000000   \n",
       "28           Éamonn Ceannt       6  0.176471    0.430380   0.048723   \n",
       "4          John Fitzgibbon       6  0.176471    0.346939   0.001248   \n",
       "13            Thomas Byrne       1  0.029412    0.365591   0.000000   \n",
       "18          J.J. O'Connell       5  0.147059    0.343434   0.000000   \n",
       "9             Seán McGarry       2  0.058824    0.441558   0.000000   \n",
       "16             J. O'Connor       5  0.147059    0.425000   0.017825   \n",
       "6            Eimar O'Duffy       4  0.117647    0.340000   0.000000   \n",
       "\n",
       "    Eigenvector  PageRank  \n",
       "14     0.116530  0.234392  \n",
       "3      0.454276  0.081192  \n",
       "24     0.430476  0.057982  \n",
       "23     0.381324  0.048461  \n",
       "25     0.292554  0.044139  \n",
       "20     0.376071  0.043452  \n",
       "12     0.140997  0.035348  \n",
       "26     0.042349  0.031863  \n",
       "28     0.148471  0.025289  \n",
       "4      0.178787  0.024604  \n",
       "13     0.040417  0.024077  \n",
       "18     0.215254  0.023157  \n",
       "9      0.042196  0.022768  \n",
       "16     0.145656  0.022182  \n",
       "6      0.186207  0.019667  "
      ]
     },
     "execution_count": 11,
     "metadata": {},
     "output_type": "execute_result"
    }
   ],
   "source": [
    "stats_25.sort_values(by='PageRank', ascending = False).head(15)"
   ]
  },
  {
   "cell_type": "markdown",
   "metadata": {},
   "source": [
    "There are now a number of people who are only connected to less than 20% of the network. Both Clarke and MacDiarmada have high Betweenness scores as they are very important for connecting the two groups. Clarke appears to be the only person with a PageRank greater than 0.1 but has a lower Eigenvector score than The O'Rahilly or Bulmer Hobson. Closesness has also dropped for many of the nodes as there are now a number of steps for them to reach other nodes."
   ]
  },
  {
   "cell_type": "markdown",
   "metadata": {},
   "source": [
    "# Edge Weight Over 25 - Reconnected"
   ]
  },
  {
   "cell_type": "markdown",
   "metadata": {},
   "source": [
    "While I filtered out the edges less than 25 to remove weaker ties these can often have an important role to play in how information travels in a nework. The 35 nodes above all have at least one edge of 25 or greater. I will build a subgraph of the big hairball graph that only includes these nodes, meaning that all edges between them will be present. Here we are looking at all the ways the most strongly connected nodes are connected."
   ]
  },
  {
   "cell_type": "code",
   "execution_count": 16,
   "metadata": {
    "collapsed": false
   },
   "outputs": [
    {
     "data": {
      "image/png": "[encoded data removed]",
      "text/plain": [
       "<matplotlib.figure.Figure at 0xb38ea58>"
      ]
     },
     "metadata": {},
     "output_type": "display_data"
    }
   ],
   "source": [
    "# Make a subgraph of the full network including only those nodes from the ex_graph_25 network\n",
    "ex_25_recon = ex_graph_full.subgraph(ex_graph_25.nodes())\n",
    "\n",
    "# The 1 can be changed to get a graph with stronger connections. Setting it to 10 will return all connectiosn between 10 and 25\n",
    "ex_25_recon_graph = filter_built_graph(ex_25_recon, 1)\n",
    "\n",
    "ex_25_recon_stats = get_graph_stats(ex_25_recon_graph)\n",
    "\n",
    "nx.draw(ex_25_recon_graph)"
   ]
  },
  {
   "cell_type": "code",
   "execution_count": 17,
   "metadata": {
    "collapsed": false
   },
   "outputs": [
    {
     "name": "stdout",
     "output_type": "stream",
     "text": [
      "35\n",
      "518\n"
     ]
    }
   ],
   "source": [
    "print(len(ex_25_recon_graph.nodes()))\n",
    "print(len(ex_25_recon_graph.edges()))"
   ]
  },
  {
   "cell_type": "markdown",
   "metadata": {},
   "source": [
    "There are the same number of nodes as before but they are now joined by almost 8 times as many edges. Networkx does have tools for changing the layout of a graph, getting the nodes to seperate and form groups. I planned doing all the final graphing in Gephi so I didn't worry about this too much. [The above graph in Gephi is on my blog.](http://www.anquantarbuile.com/social-network-of-the-1916-rising) This is using the force atlas 2 layout. The thickness of the edges represents the weight of the edge. The nodes are sized by PageRank and the colors are from Gephi modularity statistic which looks to find seperate communities in the network. Just like our previous graph it has pulled out a Tom Clarke community and an Irish Volunteer community."
   ]
  },
  {
   "cell_type": "code",
   "execution_count": 18,
   "metadata": {
    "collapsed": false
   },
   "outputs": [
    {
     "data": {
      "text/html": [
       "<div>\n",
       "<table border=\"1\" class=\"dataframe\">\n",
       "  <thead>\n",
       "    <tr style=\"text-align: right;\">\n",
       "      <th></th>\n",
       "      <th>Name</th>\n",
       "      <th>Degree</th>\n",
       "      <th>Deg Cent</th>\n",
       "      <th>Close Cent</th>\n",
       "      <th>Betw Cent</th>\n",
       "      <th>Eigenvector</th>\n",
       "      <th>PageRank</th>\n",
       "    </tr>\n",
       "  </thead>\n",
       "  <tbody>\n",
       "    <tr>\n",
       "      <th>14</th>\n",
       "      <td>Tom Clarke</td>\n",
       "      <td>33</td>\n",
       "      <td>0.970588</td>\n",
       "      <td>0.971429</td>\n",
       "      <td>0.006353</td>\n",
       "      <td>0.331973</td>\n",
       "      <td>0.091329</td>\n",
       "    </tr>\n",
       "    <tr>\n",
       "      <th>3</th>\n",
       "      <td>The O'Rahilly</td>\n",
       "      <td>31</td>\n",
       "      <td>0.911765</td>\n",
       "      <td>0.918919</td>\n",
       "      <td>0.003608</td>\n",
       "      <td>0.302895</td>\n",
       "      <td>0.050751</td>\n",
       "    </tr>\n",
       "    <tr>\n",
       "      <th>24</th>\n",
       "      <td>Bulmer Hobson</td>\n",
       "      <td>31</td>\n",
       "      <td>0.911765</td>\n",
       "      <td>0.918919</td>\n",
       "      <td>0.003371</td>\n",
       "      <td>0.288280</td>\n",
       "      <td>0.047437</td>\n",
       "    </tr>\n",
       "    <tr>\n",
       "      <th>23</th>\n",
       "      <td>Michael O'Hanrahan</td>\n",
       "      <td>31</td>\n",
       "      <td>0.911765</td>\n",
       "      <td>0.918919</td>\n",
       "      <td>0.003729</td>\n",
       "      <td>0.266199</td>\n",
       "      <td>0.042418</td>\n",
       "    </tr>\n",
       "    <tr>\n",
       "      <th>12</th>\n",
       "      <td>Seán MacDiarmada</td>\n",
       "      <td>34</td>\n",
       "      <td>1.000000</td>\n",
       "      <td>1.000000</td>\n",
       "      <td>0.007748</td>\n",
       "      <td>0.230578</td>\n",
       "      <td>0.041385</td>\n",
       "    </tr>\n",
       "    <tr>\n",
       "      <th>28</th>\n",
       "      <td>Herbert Mellows</td>\n",
       "      <td>32</td>\n",
       "      <td>0.941176</td>\n",
       "      <td>0.944444</td>\n",
       "      <td>0.004198</td>\n",
       "      <td>0.258344</td>\n",
       "      <td>0.041072</td>\n",
       "    </tr>\n",
       "    <tr>\n",
       "      <th>25</th>\n",
       "      <td>Thomas MacDonagh</td>\n",
       "      <td>33</td>\n",
       "      <td>0.970588</td>\n",
       "      <td>0.971429</td>\n",
       "      <td>0.006562</td>\n",
       "      <td>0.231822</td>\n",
       "      <td>0.040547</td>\n",
       "    </tr>\n",
       "    <tr>\n",
       "      <th>20</th>\n",
       "      <td>Éamonn Ceannt</td>\n",
       "      <td>33</td>\n",
       "      <td>0.970588</td>\n",
       "      <td>0.971429</td>\n",
       "      <td>0.005266</td>\n",
       "      <td>0.186987</td>\n",
       "      <td>0.034287</td>\n",
       "    </tr>\n",
       "    <tr>\n",
       "      <th>16</th>\n",
       "      <td>J. O'Connor</td>\n",
       "      <td>31</td>\n",
       "      <td>0.911765</td>\n",
       "      <td>0.918919</td>\n",
       "      <td>0.003729</td>\n",
       "      <td>0.186357</td>\n",
       "      <td>0.032716</td>\n",
       "    </tr>\n",
       "    <tr>\n",
       "      <th>32</th>\n",
       "      <td>Con Colbert</td>\n",
       "      <td>33</td>\n",
       "      <td>0.970588</td>\n",
       "      <td>0.971429</td>\n",
       "      <td>0.005266</td>\n",
       "      <td>0.179327</td>\n",
       "      <td>0.031489</td>\n",
       "    </tr>\n",
       "    <tr>\n",
       "      <th>4</th>\n",
       "      <td>John Fitzgibbon</td>\n",
       "      <td>28</td>\n",
       "      <td>0.823529</td>\n",
       "      <td>0.850000</td>\n",
       "      <td>0.001902</td>\n",
       "      <td>0.176575</td>\n",
       "      <td>0.030960</td>\n",
       "    </tr>\n",
       "    <tr>\n",
       "      <th>1</th>\n",
       "      <td>Piaras Béaslaí</td>\n",
       "      <td>34</td>\n",
       "      <td>1.000000</td>\n",
       "      <td>1.000000</td>\n",
       "      <td>0.007748</td>\n",
       "      <td>0.166532</td>\n",
       "      <td>0.030306</td>\n",
       "    </tr>\n",
       "    <tr>\n",
       "      <th>34</th>\n",
       "      <td>Joseph McGuinness</td>\n",
       "      <td>33</td>\n",
       "      <td>0.970588</td>\n",
       "      <td>0.971429</td>\n",
       "      <td>0.005266</td>\n",
       "      <td>0.158536</td>\n",
       "      <td>0.029233</td>\n",
       "    </tr>\n",
       "    <tr>\n",
       "      <th>30</th>\n",
       "      <td>P.H. Pearse</td>\n",
       "      <td>32</td>\n",
       "      <td>0.941176</td>\n",
       "      <td>0.944444</td>\n",
       "      <td>0.004229</td>\n",
       "      <td>0.158159</td>\n",
       "      <td>0.029055</td>\n",
       "    </tr>\n",
       "    <tr>\n",
       "      <th>18</th>\n",
       "      <td>J.J. O'Connell</td>\n",
       "      <td>26</td>\n",
       "      <td>0.764706</td>\n",
       "      <td>0.809524</td>\n",
       "      <td>0.000561</td>\n",
       "      <td>0.170866</td>\n",
       "      <td>0.028525</td>\n",
       "    </tr>\n",
       "  </tbody>\n",
       "</table>\n",
       "</div>"
      ],
      "text/plain": [
       "                  Name  Degree  Deg Cent  Close Cent  Betw Cent  Eigenvector  \\\n",
       "14          Tom Clarke      33  0.970588    0.971429   0.006353     0.331973   \n",
       "3        The O'Rahilly      31  0.911765    0.918919   0.003608     0.302895   \n",
       "24       Bulmer Hobson      31  0.911765    0.918919   0.003371     0.288280   \n",
       "23  Michael O'Hanrahan      31  0.911765    0.918919   0.003729     0.266199   \n",
       "12    Seán MacDiarmada      34  1.000000    1.000000   0.007748     0.230578   \n",
       "28     Herbert Mellows      32  0.941176    0.944444   0.004198     0.258344   \n",
       "25    Thomas MacDonagh      33  0.970588    0.971429   0.006562     0.231822   \n",
       "20       Éamonn Ceannt      33  0.970588    0.971429   0.005266     0.186987   \n",
       "16         J. O'Connor      31  0.911765    0.918919   0.003729     0.186357   \n",
       "32         Con Colbert      33  0.970588    0.971429   0.005266     0.179327   \n",
       "4      John Fitzgibbon      28  0.823529    0.850000   0.001902     0.176575   \n",
       "1       Piaras Béaslaí      34  1.000000    1.000000   0.007748     0.166532   \n",
       "34   Joseph McGuinness      33  0.970588    0.971429   0.005266     0.158536   \n",
       "30         P.H. Pearse      32  0.941176    0.944444   0.004229     0.158159   \n",
       "18      J.J. O'Connell      26  0.764706    0.809524   0.000561     0.170866   \n",
       "\n",
       "    PageRank  \n",
       "14  0.091329  \n",
       "3   0.050751  \n",
       "24  0.047437  \n",
       "23  0.042418  \n",
       "12  0.041385  \n",
       "28  0.041072  \n",
       "25  0.040547  \n",
       "20  0.034287  \n",
       "16  0.032716  \n",
       "32  0.031489  \n",
       "4   0.030960  \n",
       "1   0.030306  \n",
       "34  0.029233  \n",
       "30  0.029055  \n",
       "18  0.028525  "
      ]
     },
     "execution_count": 18,
     "metadata": {},
     "output_type": "execute_result"
    }
   ],
   "source": [
    "ex_25_recon_stats.sort_values(by='PageRank', ascending = False).head(15)"
   ]
  },
  {
   "cell_type": "markdown",
   "metadata": {},
   "source": [
    "Now with all these weak connections factored in Degree and Closeness centrality have gone way up. Everyones Betweenness centrality has dropped as there are now multiple different paths from one node to another. Eigenvector scores have moved in line with PageRank, sharing a similar ranking. However we see many of the same names appearing across the measures and across the graphs. "
   ]
  },
  {
   "cell_type": "markdown",
   "metadata": {},
   "source": [
    "Uncommenting and running the following line, if you have run all the previous lines, will write out this graph to a graphml file which can be imported into Gephi."
   ]
  },
  {
   "cell_type": "code",
   "execution_count": 19,
   "metadata": {
    "collapsed": true
   },
   "outputs": [],
   "source": [
    "#nx.write_graphml(ex_25_recon_graph, '1916-w25-reconnected.graphml')"
   ]
  },
  {
   "cell_type": "markdown",
   "metadata": {},
   "source": [
    "## Conclusions"
   ]
  },
  {
   "cell_type": "markdown",
   "metadata": {},
   "source": [
    "A large amount of documentation was created during and about the period 1916-1923 and as we push through the centenary of many of the most important events in the founding of the Irish Nation these documents are being released to the public at large. The military archives are releasing massive volumes of data covering pension applications by those who fought in the 1916 Rising and the War of Independence, medal applications, rollbooks for the IRA, Cumman na mBan and others. Data science has an important role to play in both analysing these documents and providing new ways of looking at them."
   ]
  }
 ],
 "metadata": {
  "kernelspec": {
   "display_name": "Python 2",
   "language": "python",
   "name": "python2"
  },
  "language_info": {
   "codemirror_mode": {
    "name": "ipython",
    "version": 2
   },
   "file_extension": ".py",
   "mimetype": "text/x-python",
   "name": "python",
   "nbconvert_exporter": "python",
   "pygments_lexer": "ipython2",
   "version": "2.7.13"
  }
 },
 "nbformat": 4,
 "nbformat_minor": 2
}
