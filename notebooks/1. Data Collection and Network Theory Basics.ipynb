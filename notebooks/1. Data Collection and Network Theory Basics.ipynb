{
 "cells": [
  {
   "cell_type": "markdown",
   "metadata": {},
   "source": [
    "# Collecting the data"
   ]
  },
  {
   "cell_type": "markdown",
   "metadata": {},
   "source": [
    "The data was uploaded in the form of scanned copies of the original reports. Each report covers the day beforehand and sometimes a number of days. These documents were compiled in the morning by Superintendent Owen Brien from reports submitted to him by DMP agents. \n",
    "\n",
    "I went through each document and where two people were reported as having been \"observed ... associating with each other\" I copied this into a .csv file as an edge list in the form of Date, Source, Target where Source and Target are the names of the two people who met.\n",
    "\n",
    "As an example, on the 7th of October 1915 [Brien wrote the following](http://www.nationalarchives.ie/wp-content/uploads/2015/10/CSO_JD_2_106.pdf):\n",
    "\n",
    "\"With Thomas J. Clarke, 75, Parnell St., George Nichols - Galway - from 1 p.m. to 1.30 p.m. James Murray and Arthur Griffith for a quarter of an hour between 9 & 10p.m. F.J. McCabe for twenty minutes from 9.30pm. William O'Leary Curtis for ten minutes from 10p.m.\"\n",
    "\n",
    "As this covers the events of the 6th of October the edge list for this looks like:  \n",
    "6 Oct 1915,George Nichols,Tom Clarke  \n",
    "6 Oct 1915,James Murray,Tom Clarke  \n",
    "6 Oct 1915,Arthur Griffith,Tom Clarke  \n",
    "6 Oct 1915,Arthur Griffith,James Murray  \n",
    "6 Oct 1915,F.J. McCabe,Tom Clarke  \n",
    "6 Oct 1915,Tom Clarke,William O'Leary Curtis  \n",
    "\n",
    "and so on for 13,000 more interactions. There are a number of reports covering events like concerts and lectures. If two people are mentioned attending the same concert I put an entry for them in the file. I have also included the location of each interaction but have left this out of these notebooks for simplicity. But it is possible to exclude certain events or to filter the network on location."
   ]
  },
  {
   "cell_type": "markdown",
   "metadata": {},
   "source": [
    "## Network Basics"
   ]
  },
  {
   "cell_type": "markdown",
   "metadata": {},
   "source": [
    "There are some very good tutorials on Network Graph Theory so I won't go into too much detail.  \n",
    "\n",
    "Networks consist of two entities; nodes and edges. In the 1916 network nodes represent the individuals present in the report. The above example contains six nodes, Tom Clarke, George Nichols, James Murray, Arthur Griffith, F.J. McCabe and William O'Leary Curtis.  \n",
    "An edge can connect two nodes together, indicating that there is a relationship between them. In the 1916 network the presence of an edge between two nodes indicates those two peoeple were seen together by the DMP.  \n",
    "\n",
    "Nodes and edges can have a number of different attributes but the only one that we are concerned with is edge weight. Each edge will store a number representing the number of times the two nodes it connects were seen together. This is important because if node A and B meet 100 times in the year and node A and C meet only 5 times we can see that there is a stronger relationship between A and B.\n",
    "\n",
    "Tom Clarke and William O'Leary Curtis are mentioned together 105 times in the DMP reports. Instead of drawing 105 edges between them there will be a single edge connecting them that will store a weight of 105. This which will be used by the network to determine various measures discussed later.  \n",
    "\n",
    "I'm going to use the Networkx package to draw a graph made up of the six nodes above. This is a basic example and the edges won't contain any weight data."
   ]
  },
  {
   "cell_type": "code",
   "execution_count": 8,
   "metadata": {
    "collapsed": false
   },
   "outputs": [
    {
     "name": "stdout",
     "output_type": "stream",
     "text": [
      "Populating the interactive namespace from numpy and matplotlib\n"
     ]
    },
    {
     "data": {
      "image/png": "[encoded data removed]",
      "text/plain": [
       "<matplotlib.figure.Figure at 0x91d0978>"
      ]
     },
     "metadata": {},
     "output_type": "display_data"
    }
   ],
   "source": [
    "import networkx as nx\n",
    "import matplotlib as plt\n",
    "import warnings; warnings.simplefilter('ignore')\n",
    "\n",
    "%pylab inline\n",
    "\n",
    "example = nx.Graph()\n",
    "\n",
    "example.add_edges_from([('George Nichols','Tom Clarke'), ('James Murray','Tom Clarke'), ('Arthur Griffith','Tom Clarke'), \n",
    "                        ('Arthur Griffith','James Murray'), ('F.J. McCabe','Tom Clarke'), ('Tom Clarke','William O\\'Leary Curtis')])\n",
    "\n",
    "nx.draw_networkx(example)"
   ]
  },
  {
   "cell_type": "markdown",
   "metadata": {},
   "source": [
    "For small networks the graphing tools in Networkx might be ok for larger networks a tool like [Gephi](https://gephi.org/) is generally used. This is the tool I used to build the final graphs of the 1916 Rising network after doing the initial building and testing in Networkx. Gephi can take in many different file type and the above graph can be saved as a graphml file by running:  \n",
    "nx.write_graphml(example, '1916-example.graphml')  \n",
    "This file can be then opened in Gephi where different layouts can be applied, where it's easier to resize nodes and change colors and where modularity statistics can be applied to find different communities in the network."
   ]
  },
  {
   "cell_type": "markdown",
   "metadata": {},
   "source": [
    "# Centrality Measures"
   ]
  },
  {
   "cell_type": "markdown",
   "metadata": {},
   "source": [
    "There are a number of basic statistics that can be run on the network to gain insights into which are the most important nodes. Each node will have a value for each of the measures."
   ]
  },
  {
   "cell_type": "markdown",
   "metadata": {},
   "source": [
    "## Degree and Degree Centrality"
   ]
  },
  {
   "cell_type": "markdown",
   "metadata": {},
   "source": [
    "Degree simply means how many nodes is this node connected to. On Facebook your degree would be your number of \"Friends\". On Twitter your In-Degree would be the number of \"Followers\" you have and your Out-Degree would be the number of accounts you are \"Following\". Degree would be a set of \"Followers\" and \"Following\". This is because Twitter is a directed network. I might follow your account but you don't follow mine and we would need to represent this on the graph. Facebook, like the 1916 Rising network, is undirected and we don't need to worry about this."
   ]
  },
  {
   "cell_type": "code",
   "execution_count": 9,
   "metadata": {
    "collapsed": false
   },
   "outputs": [
    {
     "data": {
      "text/plain": [
       "{'Arthur Griffith': 2,\n",
       " 'F.J. McCabe': 1,\n",
       " 'George Nichols': 1,\n",
       " 'James Murray': 2,\n",
       " 'Tom Clarke': 5,\n",
       " \"William O'Leary Curtis\": 1}"
      ]
     },
     "execution_count": 9,
     "metadata": {},
     "output_type": "execute_result"
    }
   ],
   "source": [
    "nx.degree(example)"
   ]
  },
  {
   "cell_type": "code",
   "execution_count": 10,
   "metadata": {
    "collapsed": false
   },
   "outputs": [
    {
     "data": {
      "text/plain": [
       "{'Arthur Griffith': 0.4,\n",
       " 'F.J. McCabe': 0.2,\n",
       " 'George Nichols': 0.2,\n",
       " 'James Murray': 0.4,\n",
       " 'Tom Clarke': 1.0,\n",
       " \"William O'Leary Curtis\": 0.2}"
      ]
     },
     "execution_count": 10,
     "metadata": {},
     "output_type": "execute_result"
    }
   ],
   "source": [
    "nx.degree_centrality(example)"
   ]
  },
  {
   "cell_type": "markdown",
   "metadata": {},
   "source": [
    "Degree is a count of the number of connected nodes while degree_centrality is a normalised value between 0 and 1. We can see that Clarke is connected to all other nodes in the network.  "
   ]
  },
  {
   "cell_type": "markdown",
   "metadata": {},
   "source": [
    "## Closeness Centrality"
   ]
  },
  {
   "cell_type": "markdown",
   "metadata": {},
   "source": [
    "Closeness is a measure of how close this node is to all the other nodes in the network. A node with a high score doesn't have many steps to take to reach any other node and information can reach him easily. A node with a low score may be isolated with very few friends and may find it difficult to contact others in the network."
   ]
  },
  {
   "cell_type": "code",
   "execution_count": 11,
   "metadata": {
    "collapsed": false
   },
   "outputs": [
    {
     "data": {
      "text/plain": [
       "{'Arthur Griffith': 0.625,\n",
       " 'F.J. McCabe': 0.5555555555555556,\n",
       " 'George Nichols': 0.5555555555555556,\n",
       " 'James Murray': 0.625,\n",
       " 'Tom Clarke': 1.0,\n",
       " \"William O'Leary Curtis\": 0.5555555555555556}"
      ]
     },
     "execution_count": 11,
     "metadata": {},
     "output_type": "execute_result"
    }
   ],
   "source": [
    "nx.closeness_centrality(example)"
   ]
  },
  {
   "cell_type": "markdown",
   "metadata": {},
   "source": [
    "Due to the size of this graph the results aren't very meaningful but we can see that Tom Clarke is directly connected to everyone while Nichols is slightly isolated, having to take one step through Clarke to reach anyone else in the graph. Griffith has a higher score as he is directly connected to James Murray."
   ]
  },
  {
   "cell_type": "markdown",
   "metadata": {},
   "source": [
    "# Betweenness Centrality"
   ]
  },
  {
   "cell_type": "markdown",
   "metadata": {},
   "source": [
    "Betweenness looks at how important a node is for the flow of information from one node to another. Nodes with high scores sit on the shortest path between lots of other nodes and are important for moving information around. In some cases if a small number of nodes have very high scores their removal from the network could have a negative effect, slowing down or stopping the flow of information.\n",
    "Nodes with low scores can be removed from the network with very little effect."
   ]
  },
  {
   "cell_type": "code",
   "execution_count": 12,
   "metadata": {
    "collapsed": false
   },
   "outputs": [
    {
     "data": {
      "text/plain": [
       "{'Arthur Griffith': 0.0,\n",
       " 'F.J. McCabe': 0.0,\n",
       " 'George Nichols': 0.0,\n",
       " 'James Murray': 0.0,\n",
       " 'Tom Clarke': 0.9,\n",
       " \"William O'Leary Curtis\": 0.0}"
      ]
     },
     "execution_count": 12,
     "metadata": {},
     "output_type": "execute_result"
    }
   ],
   "source": [
    "nx.betweenness_centrality(example)"
   ]
  },
  {
   "cell_type": "markdown",
   "metadata": {},
   "source": [
    "# Eigenvector and PageRank"
   ]
  },
  {
   "cell_type": "markdown",
   "metadata": {},
   "source": [
    "Eigenvector centrality measures the influence a node has on the network. All nodes are assigned a base score and this is then redistrubuted throughout the network, pooling with the most influential nodes.\n",
    "\n",
    "PageRank was developed by Google and is used by them to rank websites in searchs. PageRank rewards nodes that are connected to popular nodes instead of nodes that have a high degree. In PageRank it is the quality of connections, not the quantity, that matter.\n",
    "\n",
    "Both of these measures are use to gain an idea of who is the most popular or infuential node in the network. There are a number of other influence measures like Katz centrality and are well worth looking up further, especially PageRank.\n",
    "\n",
    "Together these measures make up the most common and most basic information you can get from a network. Individuals that appear across a number of these measures can be singled out for further study."
   ]
  },
  {
   "cell_type": "markdown",
   "metadata": {},
   "source": [
    "This notebook has only been intended as a basic explination of how the data was collected and of the most common centrality measures which I will be using on the full 1916 network. For futher information check out the [Networkx](https://networkx.github.io/) documentation or the [Networks, Crowds and Markets](https://www.edx.org/course/networks-crowds-markets-cornellx-info2040x-2) MOOC on Edx which is where I got started with network theory."
   ]
  },
  {
   "cell_type": "code",
   "execution_count": null,
   "metadata": {
    "collapsed": true
   },
   "outputs": [],
   "source": []
  }
 ],
 "metadata": {
  "kernelspec": {
   "display_name": "Python 2",
   "language": "python",
   "name": "python2"
  },
  "language_info": {
   "codemirror_mode": {
    "name": "ipython",
    "version": 2
   },
   "file_extension": ".py",
   "mimetype": "text/x-python",
   "name": "python",
   "nbconvert_exporter": "python",
   "pygments_lexer": "ipython2",
   "version": "2.7.13"
  }
 },
 "nbformat": 4,
 "nbformat_minor": 2
}
